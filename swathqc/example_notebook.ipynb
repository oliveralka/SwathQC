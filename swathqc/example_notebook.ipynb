{
 "cells": [
  {
   "cell_type": "code",
   "execution_count": 1,
   "metadata": {},
   "outputs": [],
   "source": [
    "# import all additional libraries on top\n",
    "import sys\n",
    "import pandas as pd"
   ]
  },
  {
   "cell_type": "markdown",
   "metadata": {},
   "source": [
    "#### Import SWATH-QC\n",
    "If SWATH-QC is installed properly as a Python Package, it can be imported like any other packae with \n",
    "\n",
    "import swathqc (as sqc)"
   ]
  },
  {
   "cell_type": "code",
   "execution_count": 2,
   "metadata": {},
   "outputs": [
    {
     "ename": "ModuleNotFoundError",
     "evalue": "No module named 'swathqc'",
     "output_type": "error",
     "traceback": [
      "\u001b[1;31m---------------------------------------------------------------------------\u001b[0m",
      "\u001b[1;31mModuleNotFoundError\u001b[0m                       Traceback (most recent call last)",
      "\u001b[1;32m<ipython-input-2-de43c1dad75b>\u001b[0m in \u001b[0;36m<module>\u001b[1;34m()\u001b[0m\n\u001b[1;32m----> 1\u001b[1;33m \u001b[1;32mimport\u001b[0m \u001b[0mswathqc\u001b[0m\u001b[1;33m\u001b[0m\u001b[0m\n\u001b[0m",
      "\u001b[1;31mModuleNotFoundError\u001b[0m: No module named 'swathqc'"
     ]
    }
   ],
   "source": [
    "import swathqc"
   ]
  },
  {
   "cell_type": "markdown",
   "metadata": {},
   "source": [
    "If the package is not installed, but only the source code is available, it can be imported by adding the source folder to the path environment.\n",
    "\n",
    "For example, if the code is located under \"C:\\Users\\Admin\\PyCharmProjects\\SwathQCPackage\":"
   ]
  },
  {
   "cell_type": "code",
   "execution_count": 5,
   "metadata": {},
   "outputs": [
    {
     "data": {
      "text/plain": [
       "<module 'swathqc' from 'C:\\\\Users\\\\Admin\\\\PyCharmProjects\\\\SwathQCPackage\\\\swathqc\\\\__init__.py'>"
      ]
     },
     "execution_count": 5,
     "metadata": {},
     "output_type": "execute_result"
    }
   ],
   "source": [
    "# replace with the location on your disk\n",
    "path_to_package_sourcecode=r\"C:\\Users\\Admin\\PyCharmProjects\\SwathQCPackage\"\n",
    "\n",
    "# append path to system variables\n",
    "sys.path.append(path_to_package_sourcecode)\n",
    "\n",
    "# now you can import the package\n",
    "import swathqc as sqc\n",
    "\n",
    "# check\n",
    "sqc"
   ]
  },
  {
   "cell_type": "markdown",
   "metadata": {},
   "source": [
    "## Load Data"
   ]
  },
  {
   "cell_type": "markdown",
   "metadata": {},
   "source": [
    "#### Library files\n",
    "\n",
    "\n",
    "- from tsv"
   ]
  },
  {
   "cell_type": "code",
   "execution_count": 6,
   "metadata": {},
   "outputs": [],
   "source": [
    "lib_tsv_file = r\"testfiles/assay_library.tsv\"\n",
    "lib_pqp_file = r\"testfiles/assay_library.pqp\""
   ]
  },
  {
   "cell_type": "code",
   "execution_count": 7,
   "metadata": {},
   "outputs": [],
   "source": [
    "library_from_tsv = pd.read_csv(lib_tsv_file, sep=\"\\t\")"
   ]
  },
  {
   "cell_type": "code",
   "execution_count": 8,
   "metadata": {},
   "outputs": [
    {
     "data": {
      "text/html": [
       "<div>\n",
       "<style scoped>\n",
       "    .dataframe tbody tr th:only-of-type {\n",
       "        vertical-align: middle;\n",
       "    }\n",
       "\n",
       "    .dataframe tbody tr th {\n",
       "        vertical-align: top;\n",
       "    }\n",
       "\n",
       "    .dataframe thead th {\n",
       "        text-align: right;\n",
       "    }\n",
       "</style>\n",
       "<table border=\"1\" class=\"dataframe\">\n",
       "  <thead>\n",
       "    <tr style=\"text-align: right;\">\n",
       "      <th></th>\n",
       "      <th>PrecursorMz</th>\n",
       "      <th>ProductMz</th>\n",
       "      <th>PrecursorCharge</th>\n",
       "      <th>ProductCharge</th>\n",
       "      <th>LibraryIntensity</th>\n",
       "      <th>NormalizedRetentionTime</th>\n",
       "      <th>PeptideSequence</th>\n",
       "      <th>ModifiedPeptideSequence</th>\n",
       "      <th>PeptideGroupLabel</th>\n",
       "      <th>LabelType</th>\n",
       "      <th>...</th>\n",
       "      <th>Annotation</th>\n",
       "      <th>CollisionEnergy</th>\n",
       "      <th>PrecursorIonMobility</th>\n",
       "      <th>TransitionGroupId</th>\n",
       "      <th>TransitionId</th>\n",
       "      <th>Decoy</th>\n",
       "      <th>DetectingTransition</th>\n",
       "      <th>IdentifyingTransition</th>\n",
       "      <th>QuantifyingTransition</th>\n",
       "      <th>Peptidoforms</th>\n",
       "    </tr>\n",
       "  </thead>\n",
       "  <tbody>\n",
       "    <tr>\n",
       "      <th>0</th>\n",
       "      <td>379.678716</td>\n",
       "      <td>359.1925</td>\n",
       "      <td>2</td>\n",
       "      <td>1</td>\n",
       "      <td>1634.39</td>\n",
       "      <td>-10.8</td>\n",
       "      <td>MGPNPVSG</td>\n",
       "      <td>MGPNPVSG</td>\n",
       "      <td>NaN</td>\n",
       "      <td>NaN</td>\n",
       "      <td>...</td>\n",
       "      <td>NaN</td>\n",
       "      <td>-1</td>\n",
       "      <td>-1</td>\n",
       "      <td>10799</td>\n",
       "      <td>141914</td>\n",
       "      <td>1</td>\n",
       "      <td>1</td>\n",
       "      <td>0</td>\n",
       "      <td>1</td>\n",
       "      <td>NaN</td>\n",
       "    </tr>\n",
       "    <tr>\n",
       "      <th>1</th>\n",
       "      <td>379.678716</td>\n",
       "      <td>400.1649</td>\n",
       "      <td>2</td>\n",
       "      <td>1</td>\n",
       "      <td>910.98</td>\n",
       "      <td>-10.8</td>\n",
       "      <td>MGPNPVSG</td>\n",
       "      <td>MGPNPVSG</td>\n",
       "      <td>NaN</td>\n",
       "      <td>NaN</td>\n",
       "      <td>...</td>\n",
       "      <td>NaN</td>\n",
       "      <td>-1</td>\n",
       "      <td>-1</td>\n",
       "      <td>10799</td>\n",
       "      <td>141916</td>\n",
       "      <td>1</td>\n",
       "      <td>1</td>\n",
       "      <td>0</td>\n",
       "      <td>1</td>\n",
       "      <td>NaN</td>\n",
       "    </tr>\n",
       "    <tr>\n",
       "      <th>2</th>\n",
       "      <td>379.678716</td>\n",
       "      <td>570.2882</td>\n",
       "      <td>2</td>\n",
       "      <td>1</td>\n",
       "      <td>7201.01</td>\n",
       "      <td>-10.8</td>\n",
       "      <td>MGPNPVSG</td>\n",
       "      <td>MGPNPVSG</td>\n",
       "      <td>NaN</td>\n",
       "      <td>NaN</td>\n",
       "      <td>...</td>\n",
       "      <td>NaN</td>\n",
       "      <td>-1</td>\n",
       "      <td>-1</td>\n",
       "      <td>10799</td>\n",
       "      <td>141912</td>\n",
       "      <td>1</td>\n",
       "      <td>1</td>\n",
       "      <td>0</td>\n",
       "      <td>1</td>\n",
       "      <td>NaN</td>\n",
       "    </tr>\n",
       "    <tr>\n",
       "      <th>3</th>\n",
       "      <td>379.678716</td>\n",
       "      <td>596.2861</td>\n",
       "      <td>2</td>\n",
       "      <td>1</td>\n",
       "      <td>1569.73</td>\n",
       "      <td>-10.8</td>\n",
       "      <td>MGPNPVSG</td>\n",
       "      <td>MGPNPVSG</td>\n",
       "      <td>NaN</td>\n",
       "      <td>NaN</td>\n",
       "      <td>...</td>\n",
       "      <td>NaN</td>\n",
       "      <td>-1</td>\n",
       "      <td>-1</td>\n",
       "      <td>10799</td>\n",
       "      <td>141915</td>\n",
       "      <td>1</td>\n",
       "      <td>1</td>\n",
       "      <td>0</td>\n",
       "      <td>1</td>\n",
       "      <td>NaN</td>\n",
       "    </tr>\n",
       "    <tr>\n",
       "      <th>4</th>\n",
       "      <td>379.678716</td>\n",
       "      <td>627.3097</td>\n",
       "      <td>2</td>\n",
       "      <td>1</td>\n",
       "      <td>537.00</td>\n",
       "      <td>-10.8</td>\n",
       "      <td>MGPNPVSG</td>\n",
       "      <td>MGPNPVSG</td>\n",
       "      <td>NaN</td>\n",
       "      <td>NaN</td>\n",
       "      <td>...</td>\n",
       "      <td>NaN</td>\n",
       "      <td>-1</td>\n",
       "      <td>-1</td>\n",
       "      <td>10799</td>\n",
       "      <td>141917</td>\n",
       "      <td>1</td>\n",
       "      <td>1</td>\n",
       "      <td>0</td>\n",
       "      <td>1</td>\n",
       "      <td>NaN</td>\n",
       "    </tr>\n",
       "  </tbody>\n",
       "</table>\n",
       "<p>5 rows × 27 columns</p>\n",
       "</div>"
      ],
      "text/plain": [
       "   PrecursorMz  ProductMz  PrecursorCharge  ProductCharge  LibraryIntensity  \\\n",
       "0   379.678716   359.1925                2              1           1634.39   \n",
       "1   379.678716   400.1649                2              1            910.98   \n",
       "2   379.678716   570.2882                2              1           7201.01   \n",
       "3   379.678716   596.2861                2              1           1569.73   \n",
       "4   379.678716   627.3097                2              1            537.00   \n",
       "\n",
       "   NormalizedRetentionTime PeptideSequence ModifiedPeptideSequence  \\\n",
       "0                    -10.8        MGPNPVSG                MGPNPVSG   \n",
       "1                    -10.8        MGPNPVSG                MGPNPVSG   \n",
       "2                    -10.8        MGPNPVSG                MGPNPVSG   \n",
       "3                    -10.8        MGPNPVSG                MGPNPVSG   \n",
       "4                    -10.8        MGPNPVSG                MGPNPVSG   \n",
       "\n",
       "   PeptideGroupLabel  LabelType      ...       Annotation  CollisionEnergy  \\\n",
       "0                NaN        NaN      ...              NaN               -1   \n",
       "1                NaN        NaN      ...              NaN               -1   \n",
       "2                NaN        NaN      ...              NaN               -1   \n",
       "3                NaN        NaN      ...              NaN               -1   \n",
       "4                NaN        NaN      ...              NaN               -1   \n",
       "\n",
       "   PrecursorIonMobility TransitionGroupId  TransitionId Decoy  \\\n",
       "0                    -1             10799        141914     1   \n",
       "1                    -1             10799        141916     1   \n",
       "2                    -1             10799        141912     1   \n",
       "3                    -1             10799        141915     1   \n",
       "4                    -1             10799        141917     1   \n",
       "\n",
       "   DetectingTransition  IdentifyingTransition  QuantifyingTransition  \\\n",
       "0                    1                      0                      1   \n",
       "1                    1                      0                      1   \n",
       "2                    1                      0                      1   \n",
       "3                    1                      0                      1   \n",
       "4                    1                      0                      1   \n",
       "\n",
       "   Peptidoforms  \n",
       "0           NaN  \n",
       "1           NaN  \n",
       "2           NaN  \n",
       "3           NaN  \n",
       "4           NaN  \n",
       "\n",
       "[5 rows x 27 columns]"
      ]
     },
     "execution_count": 8,
     "metadata": {},
     "output_type": "execute_result"
    }
   ],
   "source": [
    "library_from_tsv.head()"
   ]
  },
  {
   "cell_type": "markdown",
   "metadata": {},
   "source": [
    "OSW and PQP files have data stored in multiple tables. To check the available tables in a dataframe:\n",
    "    "
   ]
  },
  {
   "cell_type": "code",
   "execution_count": 11,
   "metadata": {},
   "outputs": [
    {
     "data": {
      "text/plain": [
       "['PROTEIN',\n",
       " 'PEPTIDE_PROTEIN_MAPPING',\n",
       " 'PEPTIDE',\n",
       " 'PRECURSOR_PEPTIDE_MAPPING',\n",
       " 'COMPOUND',\n",
       " 'PRECURSOR_COMPOUND_MAPPING',\n",
       " 'PRECURSOR',\n",
       " 'TRANSITION_PRECURSOR_MAPPING',\n",
       " 'TRANSITION_PEPTIDE_MAPPING',\n",
       " 'TRANSITION']"
      ]
     },
     "execution_count": 11,
     "metadata": {},
     "output_type": "execute_result"
    }
   ],
   "source": [
    "library_tables = sqc.list_osw_tables(sqc.utils.handleOSW.conn_osw(lib_pqp_file))\n",
    "library_tables"
   ]
  },
  {
   "cell_type": "markdown",
   "metadata": {},
   "source": [
    "import table you are interested in into DataFrame"
   ]
  },
  {
   "cell_type": "code",
   "execution_count": 13,
   "metadata": {},
   "outputs": [
    {
     "data": {
      "text/html": [
       "<div>\n",
       "<style scoped>\n",
       "    .dataframe tbody tr th:only-of-type {\n",
       "        vertical-align: middle;\n",
       "    }\n",
       "\n",
       "    .dataframe tbody tr th {\n",
       "        vertical-align: top;\n",
       "    }\n",
       "\n",
       "    .dataframe thead th {\n",
       "        text-align: right;\n",
       "    }\n",
       "</style>\n",
       "<table border=\"1\" class=\"dataframe\">\n",
       "  <thead>\n",
       "    <tr style=\"text-align: right;\">\n",
       "      <th></th>\n",
       "      <th>ID</th>\n",
       "      <th>UNMODIFIED_SEQUENCE</th>\n",
       "      <th>MODIFIED_SEQUENCE</th>\n",
       "      <th>DECOY</th>\n",
       "    </tr>\n",
       "  </thead>\n",
       "  <tbody>\n",
       "    <tr>\n",
       "      <th>0</th>\n",
       "      <td>0</td>\n",
       "      <td>AAAAAAALQAK</td>\n",
       "      <td>AAAAAAALQAK</td>\n",
       "      <td>0</td>\n",
       "    </tr>\n",
       "    <tr>\n",
       "      <th>1</th>\n",
       "      <td>1</td>\n",
       "      <td>AAAAESQATSQFLDAGR</td>\n",
       "      <td>AAAAESQATSQFLDAGR</td>\n",
       "      <td>1</td>\n",
       "    </tr>\n",
       "    <tr>\n",
       "      <th>2</th>\n",
       "      <td>2</td>\n",
       "      <td>AAAAHLDAAK</td>\n",
       "      <td>AAAAHLDAAK</td>\n",
       "      <td>1</td>\n",
       "    </tr>\n",
       "    <tr>\n",
       "      <th>3</th>\n",
       "      <td>3</td>\n",
       "      <td>AAAALAGGKK</td>\n",
       "      <td>AAAALAGGKK</td>\n",
       "      <td>0</td>\n",
       "    </tr>\n",
       "    <tr>\n",
       "      <th>4</th>\n",
       "      <td>4</td>\n",
       "      <td>AAAATIELK</td>\n",
       "      <td>AAAATIELK</td>\n",
       "      <td>1</td>\n",
       "    </tr>\n",
       "  </tbody>\n",
       "</table>\n",
       "</div>"
      ],
      "text/plain": [
       "   ID UNMODIFIED_SEQUENCE  MODIFIED_SEQUENCE  DECOY\n",
       "0   0         AAAAAAALQAK        AAAAAAALQAK      0\n",
       "1   1   AAAAESQATSQFLDAGR  AAAAESQATSQFLDAGR      1\n",
       "2   2          AAAAHLDAAK         AAAAHLDAAK      1\n",
       "3   3          AAAALAGGKK         AAAALAGGKK      0\n",
       "4   4           AAAATIELK          AAAATIELK      1"
      ]
     },
     "execution_count": 13,
     "metadata": {},
     "output_type": "execute_result"
    }
   ],
   "source": [
    "library_peptide = sqc.osw_table_to_df(lib_pqp_file, 'PEPTIDE')\n",
    "library_peptide.head()"
   ]
  },
  {
   "cell_type": "markdown",
   "metadata": {},
   "source": [
    "#### Load data from OpenSwathWorkflow\n",
    "\n"
   ]
  },
  {
   "cell_type": "code",
   "execution_count": 18,
   "metadata": {},
   "outputs": [],
   "source": [
    "# osw example file\n",
    "swath_file1 = r\"testfiles/swathoutput_001_A.osw\""
   ]
  },
  {
   "cell_type": "markdown",
   "metadata": {},
   "source": [
    "instead of loading indicidual dataframes, all tables and infos of interes can be loaded into a dictionary of dataframes:"
   ]
  },
  {
   "cell_type": "code",
   "execution_count": 15,
   "metadata": {},
   "outputs": [],
   "source": [
    "swath_dfdict = sqc.swath_osw_to_dfdict(swath_file1)"
   ]
  },
  {
   "cell_type": "code",
   "execution_count": 16,
   "metadata": {},
   "outputs": [
    {
     "data": {
      "text/plain": [
       "dict_keys(['feature', 'featureTransition', 'peptide', 'protein'])"
      ]
     },
     "execution_count": 16,
     "metadata": {},
     "output_type": "execute_result"
    }
   ],
   "source": [
    "# check dataframes in dictionary\n",
    "swath_dfdict.keys()"
   ]
  },
  {
   "cell_type": "code",
   "execution_count": 19,
   "metadata": {},
   "outputs": [
    {
     "data": {
      "text/html": [
       "<div>\n",
       "<style scoped>\n",
       "    .dataframe tbody tr th:only-of-type {\n",
       "        vertical-align: middle;\n",
       "    }\n",
       "\n",
       "    .dataframe tbody tr th {\n",
       "        vertical-align: top;\n",
       "    }\n",
       "\n",
       "    .dataframe thead th {\n",
       "        text-align: right;\n",
       "    }\n",
       "</style>\n",
       "<table border=\"1\" class=\"dataframe\">\n",
       "  <thead>\n",
       "    <tr style=\"text-align: right;\">\n",
       "      <th></th>\n",
       "      <th>ID</th>\n",
       "      <th>UNMODIFIED_SEQUENCE</th>\n",
       "      <th>MODIFIED_SEQUENCE</th>\n",
       "      <th>DECOY</th>\n",
       "    </tr>\n",
       "  </thead>\n",
       "  <tbody>\n",
       "    <tr>\n",
       "      <th>0</th>\n",
       "      <td>0</td>\n",
       "      <td>AAAAAAALQAK</td>\n",
       "      <td>AAAAAAALQAK</td>\n",
       "      <td>0</td>\n",
       "    </tr>\n",
       "    <tr>\n",
       "      <th>1</th>\n",
       "      <td>1</td>\n",
       "      <td>AAAAESQATSQFLDAGR</td>\n",
       "      <td>AAAAESQATSQFLDAGR</td>\n",
       "      <td>1</td>\n",
       "    </tr>\n",
       "    <tr>\n",
       "      <th>2</th>\n",
       "      <td>2</td>\n",
       "      <td>AAAAHLDAAK</td>\n",
       "      <td>AAAAHLDAAK</td>\n",
       "      <td>1</td>\n",
       "    </tr>\n",
       "    <tr>\n",
       "      <th>3</th>\n",
       "      <td>3</td>\n",
       "      <td>AAAALAGGKK</td>\n",
       "      <td>AAAALAGGKK</td>\n",
       "      <td>0</td>\n",
       "    </tr>\n",
       "    <tr>\n",
       "      <th>4</th>\n",
       "      <td>4</td>\n",
       "      <td>AAAATIELK</td>\n",
       "      <td>AAAATIELK</td>\n",
       "      <td>1</td>\n",
       "    </tr>\n",
       "  </tbody>\n",
       "</table>\n",
       "</div>"
      ],
      "text/plain": [
       "   ID UNMODIFIED_SEQUENCE  MODIFIED_SEQUENCE  DECOY\n",
       "0   0         AAAAAAALQAK        AAAAAAALQAK      0\n",
       "1   1   AAAAESQATSQFLDAGR  AAAAESQATSQFLDAGR      1\n",
       "2   2          AAAAHLDAAK         AAAAHLDAAK      1\n",
       "3   3          AAAALAGGKK         AAAALAGGKK      0\n",
       "4   4           AAAATIELK          AAAATIELK      1"
      ]
     },
     "execution_count": 19,
     "metadata": {},
     "output_type": "execute_result"
    }
   ],
   "source": [
    "swath_dfdict['peptide'].head()"
   ]
  },
  {
   "cell_type": "code",
   "execution_count": 21,
   "metadata": {},
   "outputs": [
    {
     "data": {
      "text/html": [
       "<div>\n",
       "<style scoped>\n",
       "    .dataframe tbody tr th:only-of-type {\n",
       "        vertical-align: middle;\n",
       "    }\n",
       "\n",
       "    .dataframe tbody tr th {\n",
       "        vertical-align: top;\n",
       "    }\n",
       "\n",
       "    .dataframe thead th {\n",
       "        text-align: right;\n",
       "    }\n",
       "</style>\n",
       "<table border=\"1\" class=\"dataframe\">\n",
       "  <thead>\n",
       "    <tr style=\"text-align: right;\">\n",
       "      <th></th>\n",
       "      <th>ID</th>\n",
       "      <th>normRT</th>\n",
       "      <th>RT</th>\n",
       "      <th>delta_RT</th>\n",
       "      <th>leftWidth</th>\n",
       "      <th>rightWidth</th>\n",
       "      <th>FEATURE_ID</th>\n",
       "      <th>VAR_MASSDEV_SCORE</th>\n",
       "      <th>VAR_MASSDEV_SCORE_WEIGHTED</th>\n",
       "      <th>VAR_LIBRARY_CORR</th>\n",
       "    </tr>\n",
       "  </thead>\n",
       "  <tbody>\n",
       "    <tr>\n",
       "      <th>0</th>\n",
       "      <td>-8558388858236894575</td>\n",
       "      <td>-17.490208</td>\n",
       "      <td>998.288</td>\n",
       "      <td>234.314020</td>\n",
       "      <td>985.103027</td>\n",
       "      <td>1009.809998</td>\n",
       "      <td>-8558388858236894575</td>\n",
       "      <td>5.558718</td>\n",
       "      <td>11.499623</td>\n",
       "      <td>0.376864</td>\n",
       "    </tr>\n",
       "    <tr>\n",
       "      <th>1</th>\n",
       "      <td>3590484978531208578</td>\n",
       "      <td>-24.683853</td>\n",
       "      <td>855.947</td>\n",
       "      <td>91.973086</td>\n",
       "      <td>843.911987</td>\n",
       "      <td>868.619995</td>\n",
       "      <td>3590484978531208578</td>\n",
       "      <td>7.518811</td>\n",
       "      <td>11.281677</td>\n",
       "      <td>0.171729</td>\n",
       "    </tr>\n",
       "    <tr>\n",
       "      <th>2</th>\n",
       "      <td>-3935748562974976900</td>\n",
       "      <td>-32.991730</td>\n",
       "      <td>691.559</td>\n",
       "      <td>-72.415213</td>\n",
       "      <td>685.072998</td>\n",
       "      <td>706.250977</td>\n",
       "      <td>-3935748562974976900</td>\n",
       "      <td>15.445420</td>\n",
       "      <td>16.370196</td>\n",
       "      <td>0.470298</td>\n",
       "    </tr>\n",
       "    <tr>\n",
       "      <th>3</th>\n",
       "      <td>-2961714066427934425</td>\n",
       "      <td>-19.393823</td>\n",
       "      <td>960.621</td>\n",
       "      <td>196.647122</td>\n",
       "      <td>946.275024</td>\n",
       "      <td>985.103027</td>\n",
       "      <td>-2961714066427934425</td>\n",
       "      <td>5.415022</td>\n",
       "      <td>5.934655</td>\n",
       "      <td>-0.366098</td>\n",
       "    </tr>\n",
       "    <tr>\n",
       "      <th>4</th>\n",
       "      <td>2920340648665875089</td>\n",
       "      <td>-21.789703</td>\n",
       "      <td>913.214</td>\n",
       "      <td>149.239755</td>\n",
       "      <td>889.799011</td>\n",
       "      <td>935.685974</td>\n",
       "      <td>2920340648665875089</td>\n",
       "      <td>12.889661</td>\n",
       "      <td>7.569695</td>\n",
       "      <td>0.603884</td>\n",
       "    </tr>\n",
       "  </tbody>\n",
       "</table>\n",
       "</div>"
      ],
      "text/plain": [
       "                    ID     normRT       RT    delta_RT   leftWidth  \\\n",
       "0 -8558388858236894575 -17.490208  998.288  234.314020  985.103027   \n",
       "1  3590484978531208578 -24.683853  855.947   91.973086  843.911987   \n",
       "2 -3935748562974976900 -32.991730  691.559  -72.415213  685.072998   \n",
       "3 -2961714066427934425 -19.393823  960.621  196.647122  946.275024   \n",
       "4  2920340648665875089 -21.789703  913.214  149.239755  889.799011   \n",
       "\n",
       "    rightWidth           FEATURE_ID  VAR_MASSDEV_SCORE  \\\n",
       "0  1009.809998 -8558388858236894575           5.558718   \n",
       "1   868.619995  3590484978531208578           7.518811   \n",
       "2   706.250977 -3935748562974976900          15.445420   \n",
       "3   985.103027 -2961714066427934425           5.415022   \n",
       "4   935.685974  2920340648665875089          12.889661   \n",
       "\n",
       "   VAR_MASSDEV_SCORE_WEIGHTED  VAR_LIBRARY_CORR  \n",
       "0                   11.499623          0.376864  \n",
       "1                   11.281677          0.171729  \n",
       "2                   16.370196          0.470298  \n",
       "3                    5.934655         -0.366098  \n",
       "4                    7.569695          0.603884  "
      ]
     },
     "execution_count": 21,
     "metadata": {},
     "output_type": "execute_result"
    }
   ],
   "source": [
    "swath_dfdict['feature'].head()"
   ]
  },
  {
   "cell_type": "code",
   "execution_count": null,
   "metadata": {},
   "outputs": [],
   "source": []
  },
  {
   "cell_type": "markdown",
   "metadata": {},
   "source": []
  }
 ],
 "metadata": {
  "kernelspec": {
   "display_name": "Python 3",
   "language": "python",
   "name": "python3"
  },
  "language_info": {
   "codemirror_mode": {
    "name": "ipython",
    "version": 3
   },
   "file_extension": ".py",
   "mimetype": "text/x-python",
   "name": "python",
   "nbconvert_exporter": "python",
   "pygments_lexer": "ipython3",
   "version": "3.6.5"
  }
 },
 "nbformat": 4,
 "nbformat_minor": 1
}
